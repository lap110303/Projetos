{
  "cells": [
    {
      "cell_type": "markdown",
      "id": "55fee1aa-f7ef-462f-a42b-e4ef92cd8b25",
      "metadata": {
        "id": "55fee1aa-f7ef-462f-a42b-e4ef92cd8b25"
      },
      "source": [
        "# Atividade 3: xG"
      ]
    },
    {
      "cell_type": "markdown",
      "id": "d5ab3b2e-a638-4541-ab6a-15587e7c81c9",
      "metadata": {
        "id": "d5ab3b2e-a638-4541-ab6a-15587e7c81c9"
      },
      "source": [
        "## Referências\n",
        "\n",
        "- [Soccermatics](https://soccermatics.readthedocs.io/en/latest/gallery/lesson2/plot_xGModelFit.html)\n",
        "- [kloppy](https://kloppy.pysport.org)\n",
        "- [socceraction](https://socceraction.readthedocs.io/en/latest)\n",
        "- [socceraction: Wyscout -> SPADL](https://socceraction.readthedocs.io/en/latest/api/generated/socceraction.spadl.wyscout.convert_to_actions.html)\n",
        "- [socceraction: Statsbomb -> SPADL](https://socceraction.readthedocs.io/en/latest/api/generated/socceraction.spadl.statsbomb.convert_to_actions.html)"
      ]
    },
    {
      "cell_type": "markdown",
      "id": "bd5adf25-1092-4972-b8e8-05370d8dd73c",
      "metadata": {
        "id": "bd5adf25-1092-4972-b8e8-05370d8dd73c"
      },
      "source": [
        "## Questão 1\n",
        "\n",
        "Baixe o dataset [Wyscout Europa Top 5 2017/2018](https://figshare.com/collections/Soccer_match_event_dataset/4415000).\n",
        "\n",
        "* Vá até o final da página. Lá você vai encontrar múltiplos datasets. O principal é o de Eventos; mas use os demais para adicionar informações (como correspondência id<->jogador)\n",
        "\n",
        "Escolha uma partida e carregue os dados de eventos em um dataframe do pandas."
      ]
    },
    {
      "cell_type": "code",
      "source": [
        "import pandas as pd\n",
        "import json\n",
        "\n",
        "with open(\"events_Italy.json\", \"r\", encoding=\"utf-8\") as f:\n",
        "    events_data = json.load(f)\n",
        "\n",
        "events_df = pd.DataFrame(events_data)\n",
        "\n",
        "match_id = 2576062 # Juventus 2-0 Milan\n",
        "events_match_df = events_df[events_df[\"matchId\"] == match_id]\n",
        "events_all_df = events_df\n",
        "\n",
        "print(events_match_df[[\"eventName\", \"teamId\", \"playerId\", \"eventSec\", \"matchPeriod\"]].head())\n"
      ],
      "metadata": {
        "id": "-OAnRUcAb2Vz",
        "colab": {
          "base_uri": "https://localhost:8080/"
        },
        "outputId": "5267b4ef-f855-41fa-a764-f30f35a170c1"
      },
      "id": "-OAnRUcAb2Vz",
      "execution_count": 58,
      "outputs": [
        {
          "output_type": "stream",
          "name": "stdout",
          "text": [
            "       eventName  teamId  playerId   eventSec matchPeriod\n",
            "173656      Pass    3157    105376   2.314765          1H\n",
            "173657      Pass    3157     37732   3.832876          1H\n",
            "173658      Pass    3157      3531   5.487870          1H\n",
            "173659      Pass    3157    285109   7.388912          1H\n",
            "173660      Pass    3157    350999  11.288920          1H\n"
          ]
        }
      ]
    },
    {
      "cell_type": "markdown",
      "source": [
        "### 1.1\n",
        "\n",
        "Crie um dataframe \"shots\", contendo apenas os chutes.\n",
        "\n",
        "Adicione colunas no dataframe \"shots\" a serem usadas como as features de um modelo de xG.\n",
        "\n",
        "Justifique a escolha das features."
      ],
      "metadata": {
        "id": "l8NN7muIb2x8"
      },
      "id": "l8NN7muIb2x8"
    },
    {
      "cell_type": "code",
      "execution_count": 62,
      "id": "ad32c291-8b38-4793-8dda-eb5ea1822e76",
      "metadata": {
        "id": "ad32c291-8b38-4793-8dda-eb5ea1822e76",
        "colab": {
          "base_uri": "https://localhost:8080/"
        },
        "outputId": "f0652bcb-dee0-4d77-e8b9-d211776e5511"
      },
      "outputs": [
        {
          "output_type": "stream",
          "name": "stdout",
          "text": [
            "      x   y   distance     angle   body_part  isGoal\n",
            "68   80  41  21.931712  0.303418   left_foot   False\n",
            "90   95  33  17.720045  0.121158  right_foot   False\n",
            "213  72  63  30.870698  0.214770   left_foot   False\n",
            "426  91  62  15.000000  0.301824   left_foot   False\n",
            "435  86  26  27.784888  0.134277  right_foot   False\n"
          ]
        }
      ],
      "source": [
        "shots = events_all_df[events_all_df[\"eventName\"] == \"Shot\"].copy()\n",
        "\n",
        "import numpy as np\n",
        "\n",
        "shots[\"x\"] = shots[\"positions\"].apply(lambda pos: pos[0][\"x\"])\n",
        "shots[\"y\"] = shots[\"positions\"].apply(lambda pos: pos[0][\"y\"])\n",
        "\n",
        "def calculate_distance(x, y):\n",
        "    goal_x = 100\n",
        "    goal_y = 50\n",
        "    return np.sqrt((goal_x - x)**2 + (goal_y - y)**2)\n",
        "\n",
        "shots[\"distance\"] = shots.apply(lambda row: calculate_distance(row[\"x\"], row[\"y\"]), axis=1)\n",
        "\n",
        "def calculate_angle(x, y):\n",
        "    goal_width = 7.32\n",
        "    a = np.abs(y - 50)\n",
        "    b = 100 - x\n",
        "    angle = np.arctan((goal_width * b) / (b**2 + a**2 - (goal_width/2)**2))\n",
        "    return np.abs(angle)\n",
        "\n",
        "shots[\"angle\"] = shots.apply(lambda row: calculate_angle(row[\"x\"], row[\"y\"]), axis=1)\n",
        "\n",
        "def get_body_part(tags):\n",
        "    tag_ids = [tag[\"id\"] for tag in tags]\n",
        "    if 401 in tag_ids:\n",
        "        return \"right_foot\"\n",
        "    elif 402 in tag_ids:\n",
        "        return \"left_foot\"\n",
        "    elif 403 in tag_ids:\n",
        "        return \"head\"\n",
        "    else:\n",
        "        return \"other\"\n",
        "\n",
        "shots[\"body_part\"] = shots[\"tags\"].apply(get_body_part)\n",
        "\n",
        "shots[\"isGoal\"] = shots[\"tags\"].apply(lambda tags: any(tag[\"id\"] == 101 for tag in tags))\n",
        "\n",
        "print(shots[[\"x\", \"y\", \"distance\", \"angle\", \"body_part\", \"isGoal\"]].head())"
      ]
    },
    {
      "cell_type": "markdown",
      "source": [
        "Para a escolha das features, optei apenas por utilizar a distância, ângulo e parte do corpo do jogador, já que os modelos apresentados não incluem outros fatores como os outros jogadores ou a velocidade do chute. Apesar disso, essas features são mais que suficientes para um bom modelo."
      ],
      "metadata": {
        "id": "IfIJdyF5w_Zr"
      },
      "id": "IfIJdyF5w_Zr"
    },
    {
      "cell_type": "markdown",
      "id": "6b959f62-d296-42b1-8502-7dcd412e3dd6",
      "metadata": {
        "id": "6b959f62-d296-42b1-8502-7dcd412e3dd6"
      },
      "source": [
        "## Questão 2\n",
        "\n",
        "Agora, crie seu próprio modelo de *expected goals*. Use os slides como guia -- você tem liberdade de usar qualquer método (ex: [regressão logística](https://scikit-learn.org/stable/modules/generated/sklearn.linear_model.LogisticRegression.html)).\n",
        "\n",
        "Reporte a acurácia do modelo para os conjuntos de treino (.score(X_train, y_train)) e teste (.score(X_test, y_test))."
      ]
    },
    {
      "cell_type": "code",
      "execution_count": 64,
      "id": "08a0a477-cd55-48d1-8367-cfd82445deba",
      "metadata": {
        "id": "08a0a477-cd55-48d1-8367-cfd82445deba",
        "colab": {
          "base_uri": "https://localhost:8080/"
        },
        "outputId": "32056a21-9f78-4719-feab-2d4462fca3d3"
      },
      "outputs": [
        {
          "output_type": "stream",
          "name": "stdout",
          "text": [
            "Acurácia no treino: 0.9081\n",
            "Acurácia no teste: 0.9047\n"
          ]
        }
      ],
      "source": [
        "from sklearn.model_selection import train_test_split\n",
        "from sklearn.linear_model import LogisticRegression\n",
        "from sklearn.preprocessing import OneHotEncoder\n",
        "from sklearn.metrics import accuracy_score\n",
        "import pandas as pd\n",
        "import numpy as np\n",
        "\n",
        "# Selecionar as features e target\n",
        "features = shots[[\"x\", \"y\", \"distance\", \"angle\", \"body_part\"]]\n",
        "target = shots[\"isGoal\"].astype(int)\n",
        "\n",
        "# One-hot encode da coluna body_part\n",
        "features = pd.get_dummies(features, columns=[\"body_part\"], drop_first=True)\n",
        "\n",
        "X_train, X_test, y_train, y_test = train_test_split(features, target, test_size=0.2, random_state=42)\n",
        "\n",
        "model = LogisticRegression()\n",
        "model.fit(X_train, y_train)\n",
        "\n",
        "train_accuracy = model.score(X_train, y_train)\n",
        "test_accuracy = model.score(X_test, y_test)\n",
        "\n",
        "print(f\"Acurácia no treino: {train_accuracy:.4f}\")\n",
        "print(f\"Acurácia no teste: {test_accuracy:.4f}\")"
      ]
    },
    {
      "cell_type": "markdown",
      "source": [
        "### 2.1\n",
        "\n",
        "Faça uma curva de calibração para avaliar a qualidade do seu modelo para diferentes probabilidades de gol.\n",
        "\n",
        "Dica: use a função:\n",
        "\n",
        "```\n",
        "from sklearn.calibration import calibration_curve\n",
        "# calibration_curve(y, y_pred, n_bins=10)\n",
        "```\n",
        "\n",
        "Discuta os resultados: seu modelo está *bem calibrado*?\n"
      ],
      "metadata": {
        "id": "I1WrgZ53dcJh"
      },
      "id": "I1WrgZ53dcJh"
    },
    {
      "cell_type": "code",
      "source": [
        "import matplotlib.pyplot as plt\n",
        "from sklearn.calibration import calibration_curve\n",
        "\n",
        "# Obter probabilidades previstas\n",
        "y_pred_prob = model.predict_proba(X_test)[:, 1]  # P(gol)\n",
        "\n",
        "# Gerar curva de calibração\n",
        "prob_true, prob_pred = calibration_curve(y_test, y_pred_prob, n_bins=10)\n",
        "\n",
        "# Plotar\n",
        "plt.figure(figsize=(8, 6))\n",
        "plt.plot(prob_pred, prob_true, marker='o', label=\"Modelo xG\", color=\"blue\")\n",
        "plt.plot([0, 1], [0, 1], linestyle=\"--\", label=\"Perfeito (y = x)\", color=\"gray\")\n",
        "plt.xlabel(\"Probabilidade prevista de gol\")\n",
        "plt.ylabel(\"Frequência real de gols\")\n",
        "plt.title(\"Curva de Calibração do Modelo xG\")\n",
        "plt.legend()\n",
        "plt.grid(True)\n",
        "plt.show()\n"
      ],
      "metadata": {
        "colab": {
          "base_uri": "https://localhost:8080/",
          "height": 564
        },
        "id": "V7JcRX0Xmx-x",
        "outputId": "cb60b3b9-0b68-4a25-b593-2ee80c0e4ecc"
      },
      "id": "V7JcRX0Xmx-x",
      "execution_count": 65,
      "outputs": [
        {
          "output_type": "display_data",
          "data": {
            "text/plain": [
              "<Figure size 800x600 with 1 Axes>"
            ],
            "image/png": "[encoded data removed]"
          },
          "metadata": {}
        }
      ]
    },
    {
      "cell_type": "markdown",
      "source": [
        "O modelo começa bem calibrado para valores baixos, porém conforme o xG aumenta ele parece se afastar dos valores ideais, justamente pois não existem gols com chance garantida de serem feitos."
      ],
      "metadata": {
        "id": "8FQM0JE1xaeR"
      },
      "id": "8FQM0JE1xaeR"
    },
    {
      "cell_type": "markdown",
      "id": "87a64e35-25b8-4d2c-9e82-bbd760180f20",
      "metadata": {
        "id": "87a64e35-25b8-4d2c-9e82-bbd760180f20"
      },
      "source": [
        "## Questão 3\n",
        "Aplique o seu model de xG treinado na questão anterior para prever a probabilidade de gol de todos os chutes do dataframe \"shots\". Reporte essas probabilidades no dataframe \"shots\" em uma coluna \"xG\".\n",
        "\n",
        "Em seguida, crie duas listas, exibindo:\n",
        "- os 10 jogadores com maior xG\n",
        "- os 10 jogadores com maior diferença de Gols e xG\n",
        "\n",
        "Discuta os resultados.\n",
        "- O seu modelo fez um bom trabalho para prever os gols?\n",
        "- Como você explica a diferença de gols e xG?"
      ]
    },
    {
      "cell_type": "code",
      "execution_count": 66,
      "id": "91fdd2a9-df80-45d7-ae39-1eb4db473048",
      "metadata": {
        "id": "91fdd2a9-df80-45d7-ae39-1eb4db473048",
        "colab": {
          "base_uri": "https://localhost:8080/"
        },
        "outputId": "0643f752-23b6-43f5-e8f9-efaacc98995b"
      },
      "outputs": [
        {
          "output_type": "stream",
          "name": "stdout",
          "text": [
            "Top 10 jogadores com maior xG:\n",
            "playerId\n",
            "8327      18.910786\n",
            "206314    15.060569\n",
            "269152    13.496628\n",
            "22933     12.957135\n",
            "21385     12.385319\n",
            "21234     11.687876\n",
            "21384     11.600654\n",
            "333913    11.282372\n",
            "20479     10.953813\n",
            "3323      10.132060\n",
            "Name: xG, dtype: float64\n",
            "\n",
            "Top 10 jogadores com maior diferença G - xG:\n",
            "          Goal         xG     G - xG\n",
            "playerId                            \n",
            "21384       22  11.600654  10.399346\n",
            "89186       16   6.634377   9.365623\n",
            "206314      23  15.060569   7.939431\n",
            "3318         9   3.495351   5.504649\n",
            "265865      12   6.531750   5.468250\n",
            "3323        15  10.132060   4.867940\n",
            "8148        12   7.566072   4.433928\n",
            "25601        8   3.792438   4.207562\n",
            "20845        8   4.079844   3.920156\n",
            "130          6   2.334074   3.665926\n"
          ]
        }
      ],
      "source": [
        "# Reaplicando one-hot encoding no dataframe completo\n",
        "shots_encoded = pd.get_dummies(shots[[\"x\", \"y\", \"distance\", \"angle\", \"body_part\"]], columns=[\"body_part\"], drop_first=True)\n",
        "\n",
        "# Garantir que as colunas estejam na mesma ordem do treino\n",
        "shots_encoded = shots_encoded.reindex(columns=X_train.columns, fill_value=0)\n",
        "\n",
        "# Prevendo xG para todos os chutes\n",
        "shots[\"xG\"] = model.predict_proba(shots_encoded)[:, 1]\n",
        "\n",
        "top_xg_players = shots.groupby(\"playerId\")[\"xG\"].sum().sort_values(ascending=False).head(10)\n",
        "print(\"Top 10 jogadores com maior xG:\")\n",
        "print(top_xg_players)\n",
        "\n",
        "# Criar coluna de gols como inteiro\n",
        "shots[\"Goal\"] = shots[\"isGoal\"].astype(int)\n",
        "\n",
        "# Agrupar por jogador\n",
        "player_stats = shots.groupby(\"playerId\").agg({\"Goal\": \"sum\", \"xG\": \"sum\"})\n",
        "player_stats[\"G - xG\"] = player_stats[\"Goal\"] - player_stats[\"xG\"]\n",
        "\n",
        "# Ordenar pela diferença\n",
        "top_diff_players = player_stats.sort_values(by=\"G - xG\", ascending=False).head(10)\n",
        "print(\"\\nTop 10 jogadores com maior diferença G - xG:\")\n",
        "print(top_diff_players)\n"
      ]
    },
    {
      "cell_type": "markdown",
      "source": [
        "O modelo parece funcionar bem, já que os jogadores com mais gols são aqueles com os maiores xG, porém, parece que todos eles apresentam-se fazendo mais gols que o esperado, sem exceção, o que pode indicar que talvez o modelo tenda a esperar menos gols do que deveria."
      ],
      "metadata": {
        "id": "XQu0yEvLx11z"
      },
      "id": "XQu0yEvLx11z"
    },
    {
      "cell_type": "markdown",
      "id": "cdd3c529-5ce9-41f6-8433-c12f5ef2d543",
      "metadata": {
        "id": "cdd3c529-5ce9-41f6-8433-c12f5ef2d543"
      },
      "source": [
        "## Questão 4 (opcional)\n",
        "Carregue os [dados das 5 grandes ligas européias do StatsBomb](https://statsbomb.com/news/the-2015-16-big-5-leagues-free-data-release-la-liga/). Use o [guia do statsbomb para carregar os dados](https://statsbomb.com/articles/soccer/using-statsbomb-free-data-in-python/), se quiser.\n",
        "\n",
        "Note que as métricas e o formato dos dados são diferentes.\n",
        "\n",
        "Com os dados da StatsBomb, crie um novo modelo de xG. Você pode usar as mesmas ideias do modelo da questão 1, ou pode fazer um modelo novo.\n",
        "\n",
        "Compare e discuta seus resultados."
      ]
    },
    {
      "cell_type": "code",
      "execution_count": null,
      "id": "1d4e82fe-cf92-40a2-b184-9234e068caad",
      "metadata": {
        "id": "1d4e82fe-cf92-40a2-b184-9234e068caad"
      },
      "outputs": [],
      "source": []
    }
  ],
  "metadata": {
    "kernelspec": {
      "display_name": "Python 3 (ipykernel)",
      "language": "python",
      "name": "python3"
    },
    "language_info": {
      "codemirror_mode": {
        "name": "ipython",
        "version": 3
      },
      "file_extension": ".py",
      "mimetype": "text/x-python",
      "name": "python",
      "nbconvert_exporter": "python",
      "pygments_lexer": "ipython3",
      "version": "3.12.1"
    },
    "colab": {
      "provenance": []
    }
  },
  "nbformat": 4,
  "nbformat_minor": 5
}