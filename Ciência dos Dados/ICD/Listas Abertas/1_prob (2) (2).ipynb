{
  "cells": [
    {
      "cell_type": "markdown",
      "id": "33135adb",
      "metadata": {
        "id": "33135adb"
      },
      "source": [
        "# Usiminas: Residência em Ciência de Dados\n",
        "\n",
        "**Disciplina:** Probabilidade e Análise de Dados com Python\n",
        "\n",
        "**Professores:** Flávio Figueiredo e Pedro Melo\n",
        "\n",
        "**Aula 8:** Probabilidade"
      ]
    },
    {
      "cell_type": "code",
      "execution_count": 102,
      "id": "30bca95c",
      "metadata": {
        "id": "30bca95c"
      },
      "outputs": [],
      "source": [
        "import pandas as pd\n",
        "import matplotlib.pyplot as plt\n",
        "import seaborn as sns\n",
        "import scipy.stats as stats\n",
        "import numpy as np"
      ]
    },
    {
      "cell_type": "markdown",
      "id": "6d3c2826",
      "metadata": {
        "id": "6d3c2826"
      },
      "source": [
        "## Questão 1 -  Calculando probabilidades e probabilidades condicionais\n",
        "\n",
        "\n",
        "|$$\\,\\,\\,x\\,\\,\\,$$ | $$\\,\\,\\,y\\,\\,\\,$$ | $$\\mathbb{P}(X,Y)$$|\n",
        "|:----------------:|:-----------------:|:------------------:|\n",
        "|        0         |         0         |         0.050      |\n",
        "|        0         |         1         |         0.025      |\n",
        "|        0         |         2         |         0.075      |\n",
        "|        0         |         3         |         0.100      |\n",
        "|        1         |         0         |         0.130      |\n",
        "|        1         |         1         |         0.090      |\n",
        "|        1         |         2         |         0.150      |\n",
        "|        1         |         3         |         0.022      |\n",
        "|        2         |         0         |         0.030      |\n",
        "|        2         |         1         |         0.046      |\n",
        "|        2         |         2         |         0.110      |\n",
        "|        2         |         3         |         0.015      |\n",
        "|        3         |         0         |         0.010      |\n",
        "|        3         |         1         |         0.094      |\n",
        "|        3         |         2         |         0.005      |\n",
        "|        3         |         3         |         0.048      |\n",
        "\n",
        "Considere o conjunto de dados acima para responder às seguintes perguntas. Na célula a seguir, construímos o dataframe `dados` com as mesmas informações da tabela mostrada."
      ]
    },
    {
      "cell_type": "code",
      "execution_count": 103,
      "id": "2314ada9",
      "metadata": {
        "colab": {
          "base_uri": "https://localhost:8080/",
          "height": 551
        },
        "id": "2314ada9",
        "outputId": "29c1fefc-ee92-420a-e1cf-7b74b21a82d8"
      },
      "outputs": [
        {
          "output_type": "execute_result",
          "data": {
            "text/plain": [
              "    x  y  P(X,Y)\n",
              "0   0  0   0.050\n",
              "1   0  1   0.025\n",
              "2   0  2   0.075\n",
              "3   0  3   0.100\n",
              "4   1  0   0.130\n",
              "5   1  1   0.090\n",
              "6   1  2   0.150\n",
              "7   1  3   0.022\n",
              "8   2  0   0.030\n",
              "9   2  1   0.046\n",
              "10  2  2   0.110\n",
              "11  2  3   0.015\n",
              "12  3  0   0.010\n",
              "13  3  1   0.094\n",
              "14  3  2   0.005\n",
              "15  3  3   0.048"
            ],
            "text/html": [
              "\n",
              "  <div id=\"df-6bafd569-2bf7-4b86-af80-e2ed0c846186\" class=\"colab-df-container\">\n",
              "    <div>\n",
              "<style scoped>\n",
              "    .dataframe tbody tr th:only-of-type {\n",
              "        vertical-align: middle;\n",
              "    }\n",
              "\n",
              "    .dataframe tbody tr th {\n",
              "        vertical-align: top;\n",
              "    }\n",
              "\n",
              "    .dataframe thead th {\n",
              "        text-align: right;\n",
              "    }\n",
              "</style>\n",
              "<table border=\"1\" class=\"dataframe\">\n",
              "  <thead>\n",
              "    <tr style=\"text-align: right;\">\n",
              "      <th></th>\n",
              "      <th>x</th>\n",
              "      <th>y</th>\n",
              "      <th>P(X,Y)</th>\n",
              "    </tr>\n",
              "  </thead>\n",
              "  <tbody>\n",
              "    <tr>\n",
              "      <th>0</th>\n",
              "      <td>0</td>\n",
              "      <td>0</td>\n",
              "      <td>0.050</td>\n",
              "    </tr>\n",
              "    <tr>\n",
              "      <th>1</th>\n",
              "      <td>0</td>\n",
              "      <td>1</td>\n",
              "      <td>0.025</td>\n",
              "    </tr>\n",
              "    <tr>\n",
              "      <th>2</th>\n",
              "      <td>0</td>\n",
              "      <td>2</td>\n",
              "      <td>0.075</td>\n",
              "    </tr>\n",
              "    <tr>\n",
              "      <th>3</th>\n",
              "      <td>0</td>\n",
              "      <td>3</td>\n",
              "      <td>0.100</td>\n",
              "    </tr>\n",
              "    <tr>\n",
              "      <th>4</th>\n",
              "      <td>1</td>\n",
              "      <td>0</td>\n",
              "      <td>0.130</td>\n",
              "    </tr>\n",
              "    <tr>\n",
              "      <th>5</th>\n",
              "      <td>1</td>\n",
              "      <td>1</td>\n",
              "      <td>0.090</td>\n",
              "    </tr>\n",
              "    <tr>\n",
              "      <th>6</th>\n",
              "      <td>1</td>\n",
              "      <td>2</td>\n",
              "      <td>0.150</td>\n",
              "    </tr>\n",
              "    <tr>\n",
              "      <th>7</th>\n",
              "      <td>1</td>\n",
              "      <td>3</td>\n",
              "      <td>0.022</td>\n",
              "    </tr>\n",
              "    <tr>\n",
              "      <th>8</th>\n",
              "      <td>2</td>\n",
              "      <td>0</td>\n",
              "      <td>0.030</td>\n",
              "    </tr>\n",
              "    <tr>\n",
              "      <th>9</th>\n",
              "      <td>2</td>\n",
              "      <td>1</td>\n",
              "      <td>0.046</td>\n",
              "    </tr>\n",
              "    <tr>\n",
              "      <th>10</th>\n",
              "      <td>2</td>\n",
              "      <td>2</td>\n",
              "      <td>0.110</td>\n",
              "    </tr>\n",
              "    <tr>\n",
              "      <th>11</th>\n",
              "      <td>2</td>\n",
              "      <td>3</td>\n",
              "      <td>0.015</td>\n",
              "    </tr>\n",
              "    <tr>\n",
              "      <th>12</th>\n",
              "      <td>3</td>\n",
              "      <td>0</td>\n",
              "      <td>0.010</td>\n",
              "    </tr>\n",
              "    <tr>\n",
              "      <th>13</th>\n",
              "      <td>3</td>\n",
              "      <td>1</td>\n",
              "      <td>0.094</td>\n",
              "    </tr>\n",
              "    <tr>\n",
              "      <th>14</th>\n",
              "      <td>3</td>\n",
              "      <td>2</td>\n",
              "      <td>0.005</td>\n",
              "    </tr>\n",
              "    <tr>\n",
              "      <th>15</th>\n",
              "      <td>3</td>\n",
              "      <td>3</td>\n",
              "      <td>0.048</td>\n",
              "    </tr>\n",
              "  </tbody>\n",
              "</table>\n",
              "</div>\n",
              "    <div class=\"colab-df-buttons\">\n",
              "\n",
              "  <div class=\"colab-df-container\">\n",
              "    <button class=\"colab-df-convert\" onclick=\"convertToInteractive('df-6bafd569-2bf7-4b86-af80-e2ed0c846186')\"\n",
              "            title=\"Convert this dataframe to an interactive table.\"\n",
              "            style=\"display:none;\">\n",
              "\n",
              "  <svg xmlns=\"http://www.w3.org/2000/svg\" height=\"24px\" viewBox=\"0 -960 960 960\">\n",
              "    <path d=\"M120-120v-720h720v720H120Zm60-500h600v-160H180v160Zm220 220h160v-160H400v160Zm0 220h160v-160H400v160ZM180-400h160v-160H180v160Zm440 0h160v-160H620v160ZM180-180h160v-160H180v160Zm440 0h160v-160H620v160Z\"/>\n",
              "  </svg>\n",
              "    </button>\n",
              "\n",
              "  <style>\n",
              "    .colab-df-container {\n",
              "      display:flex;\n",
              "      gap: 12px;\n",
              "    }\n",
              "\n",
              "    .colab-df-convert {\n",
              "      background-color: #E8F0FE;\n",
              "      border: none;\n",
              "      border-radius: 50%;\n",
              "      cursor: pointer;\n",
              "      display: none;\n",
              "      fill: #1967D2;\n",
              "      height: 32px;\n",
              "      padding: 0 0 0 0;\n",
              "      width: 32px;\n",
              "    }\n",
              "\n",
              "    .colab-df-convert:hover {\n",
              "      background-color: #E2EBFA;\n",
              "      box-shadow: 0px 1px 2px rgba(60, 64, 67, 0.3), 0px 1px 3px 1px rgba(60, 64, 67, 0.15);\n",
              "      fill: #174EA6;\n",
              "    }\n",
              "\n",
              "    .colab-df-buttons div {\n",
              "      margin-bottom: 4px;\n",
              "    }\n",
              "\n",
              "    [theme=dark] .colab-df-convert {\n",
              "      background-color: #3B4455;\n",
              "      fill: #D2E3FC;\n",
              "    }\n",
              "\n",
              "    [theme=dark] .colab-df-convert:hover {\n",
              "      background-color: #434B5C;\n",
              "      box-shadow: 0px 1px 3px 1px rgba(0, 0, 0, 0.15);\n",
              "      filter: drop-shadow(0px 1px 2px rgba(0, 0, 0, 0.3));\n",
              "      fill: #FFFFFF;\n",
              "    }\n",
              "  </style>\n",
              "\n",
              "    <script>\n",
              "      const buttonEl =\n",
              "        document.querySelector('#df-6bafd569-2bf7-4b86-af80-e2ed0c846186 button.colab-df-convert');\n",
              "      buttonEl.style.display =\n",
              "        google.colab.kernel.accessAllowed ? 'block' : 'none';\n",
              "\n",
              "      async function convertToInteractive(key) {\n",
              "        const element = document.querySelector('#df-6bafd569-2bf7-4b86-af80-e2ed0c846186');\n",
              "        const dataTable =\n",
              "          await google.colab.kernel.invokeFunction('convertToInteractive',\n",
              "                                                    [key], {});\n",
              "        if (!dataTable) return;\n",
              "\n",
              "        const docLinkHtml = 'Like what you see? Visit the ' +\n",
              "          '<a target=\"_blank\" href=https://colab.research.google.com/notebooks/data_table.ipynb>data table notebook</a>'\n",
              "          + ' to learn more about interactive tables.';\n",
              "        element.innerHTML = '';\n",
              "        dataTable['output_type'] = 'display_data';\n",
              "        await google.colab.output.renderOutput(dataTable, element);\n",
              "        const docLink = document.createElement('div');\n",
              "        docLink.innerHTML = docLinkHtml;\n",
              "        element.appendChild(docLink);\n",
              "      }\n",
              "    </script>\n",
              "  </div>\n",
              "\n",
              "\n",
              "<div id=\"df-44715701-f4dc-427b-8034-850f61f9a22c\">\n",
              "  <button class=\"colab-df-quickchart\" onclick=\"quickchart('df-44715701-f4dc-427b-8034-850f61f9a22c')\"\n",
              "            title=\"Suggest charts\"\n",
              "            style=\"display:none;\">\n",
              "\n",
              "<svg xmlns=\"http://www.w3.org/2000/svg\" height=\"24px\"viewBox=\"0 0 24 24\"\n",
              "     width=\"24px\">\n",
              "    <g>\n",
              "        <path d=\"M19 3H5c-1.1 0-2 .9-2 2v14c0 1.1.9 2 2 2h14c1.1 0 2-.9 2-2V5c0-1.1-.9-2-2-2zM9 17H7v-7h2v7zm4 0h-2V7h2v10zm4 0h-2v-4h2v4z\"/>\n",
              "    </g>\n",
              "</svg>\n",
              "  </button>\n",
              "\n",
              "<style>\n",
              "  .colab-df-quickchart {\n",
              "      --bg-color: #E8F0FE;\n",
              "      --fill-color: #1967D2;\n",
              "      --hover-bg-color: #E2EBFA;\n",
              "      --hover-fill-color: #174EA6;\n",
              "      --disabled-fill-color: #AAA;\n",
              "      --disabled-bg-color: #DDD;\n",
              "  }\n",
              "\n",
              "  [theme=dark] .colab-df-quickchart {\n",
              "      --bg-color: #3B4455;\n",
              "      --fill-color: #D2E3FC;\n",
              "      --hover-bg-color: #434B5C;\n",
              "      --hover-fill-color: #FFFFFF;\n",
              "      --disabled-bg-color: #3B4455;\n",
              "      --disabled-fill-color: #666;\n",
              "  }\n",
              "\n",
              "  .colab-df-quickchart {\n",
              "    background-color: var(--bg-color);\n",
              "    border: none;\n",
              "    border-radius: 50%;\n",
              "    cursor: pointer;\n",
              "    display: none;\n",
              "    fill: var(--fill-color);\n",
              "    height: 32px;\n",
              "    padding: 0;\n",
              "    width: 32px;\n",
              "  }\n",
              "\n",
              "  .colab-df-quickchart:hover {\n",
              "    background-color: var(--hover-bg-color);\n",
              "    box-shadow: 0 1px 2px rgba(60, 64, 67, 0.3), 0 1px 3px 1px rgba(60, 64, 67, 0.15);\n",
              "    fill: var(--button-hover-fill-color);\n",
              "  }\n",
              "\n",
              "  .colab-df-quickchart-complete:disabled,\n",
              "  .colab-df-quickchart-complete:disabled:hover {\n",
              "    background-color: var(--disabled-bg-color);\n",
              "    fill: var(--disabled-fill-color);\n",
              "    box-shadow: none;\n",
              "  }\n",
              "\n",
              "  .colab-df-spinner {\n",
              "    border: 2px solid var(--fill-color);\n",
              "    border-color: transparent;\n",
              "    border-bottom-color: var(--fill-color);\n",
              "    animation:\n",
              "      spin 1s steps(1) infinite;\n",
              "  }\n",
              "\n",
              "  @keyframes spin {\n",
              "    0% {\n",
              "      border-color: transparent;\n",
              "      border-bottom-color: var(--fill-color);\n",
              "      border-left-color: var(--fill-color);\n",
              "    }\n",
              "    20% {\n",
              "      border-color: transparent;\n",
              "      border-left-color: var(--fill-color);\n",
              "      border-top-color: var(--fill-color);\n",
              "    }\n",
              "    30% {\n",
              "      border-color: transparent;\n",
              "      border-left-color: var(--fill-color);\n",
              "      border-top-color: var(--fill-color);\n",
              "      border-right-color: var(--fill-color);\n",
              "    }\n",
              "    40% {\n",
              "      border-color: transparent;\n",
              "      border-right-color: var(--fill-color);\n",
              "      border-top-color: var(--fill-color);\n",
              "    }\n",
              "    60% {\n",
              "      border-color: transparent;\n",
              "      border-right-color: var(--fill-color);\n",
              "    }\n",
              "    80% {\n",
              "      border-color: transparent;\n",
              "      border-right-color: var(--fill-color);\n",
              "      border-bottom-color: var(--fill-color);\n",
              "    }\n",
              "    90% {\n",
              "      border-color: transparent;\n",
              "      border-bottom-color: var(--fill-color);\n",
              "    }\n",
              "  }\n",
              "</style>\n",
              "\n",
              "  <script>\n",
              "    async function quickchart(key) {\n",
              "      const quickchartButtonEl =\n",
              "        document.querySelector('#' + key + ' button');\n",
              "      quickchartButtonEl.disabled = true;  // To prevent multiple clicks.\n",
              "      quickchartButtonEl.classList.add('colab-df-spinner');\n",
              "      try {\n",
              "        const charts = await google.colab.kernel.invokeFunction(\n",
              "            'suggestCharts', [key], {});\n",
              "      } catch (error) {\n",
              "        console.error('Error during call to suggestCharts:', error);\n",
              "      }\n",
              "      quickchartButtonEl.classList.remove('colab-df-spinner');\n",
              "      quickchartButtonEl.classList.add('colab-df-quickchart-complete');\n",
              "    }\n",
              "    (() => {\n",
              "      let quickchartButtonEl =\n",
              "        document.querySelector('#df-44715701-f4dc-427b-8034-850f61f9a22c button');\n",
              "      quickchartButtonEl.style.display =\n",
              "        google.colab.kernel.accessAllowed ? 'block' : 'none';\n",
              "    })();\n",
              "  </script>\n",
              "</div>\n",
              "\n",
              "  <div id=\"id_7a9fe4b6-4425-48ac-a527-2476b7174120\">\n",
              "    <style>\n",
              "      .colab-df-generate {\n",
              "        background-color: #E8F0FE;\n",
              "        border: none;\n",
              "        border-radius: 50%;\n",
              "        cursor: pointer;\n",
              "        display: none;\n",
              "        fill: #1967D2;\n",
              "        height: 32px;\n",
              "        padding: 0 0 0 0;\n",
              "        width: 32px;\n",
              "      }\n",
              "\n",
              "      .colab-df-generate:hover {\n",
              "        background-color: #E2EBFA;\n",
              "        box-shadow: 0px 1px 2px rgba(60, 64, 67, 0.3), 0px 1px 3px 1px rgba(60, 64, 67, 0.15);\n",
              "        fill: #174EA6;\n",
              "      }\n",
              "\n",
              "      [theme=dark] .colab-df-generate {\n",
              "        background-color: #3B4455;\n",
              "        fill: #D2E3FC;\n",
              "      }\n",
              "\n",
              "      [theme=dark] .colab-df-generate:hover {\n",
              "        background-color: #434B5C;\n",
              "        box-shadow: 0px 1px 3px 1px rgba(0, 0, 0, 0.15);\n",
              "        filter: drop-shadow(0px 1px 2px rgba(0, 0, 0, 0.3));\n",
              "        fill: #FFFFFF;\n",
              "      }\n",
              "    </style>\n",
              "    <button class=\"colab-df-generate\" onclick=\"generateWithVariable('dados')\"\n",
              "            title=\"Generate code using this dataframe.\"\n",
              "            style=\"display:none;\">\n",
              "\n",
              "  <svg xmlns=\"http://www.w3.org/2000/svg\" height=\"24px\"viewBox=\"0 0 24 24\"\n",
              "       width=\"24px\">\n",
              "    <path d=\"M7,19H8.4L18.45,9,17,7.55,7,17.6ZM5,21V16.75L18.45,3.32a2,2,0,0,1,2.83,0l1.4,1.43a1.91,1.91,0,0,1,.58,1.4,1.91,1.91,0,0,1-.58,1.4L9.25,21ZM18.45,9,17,7.55Zm-12,3A5.31,5.31,0,0,0,4.9,8.1,5.31,5.31,0,0,0,1,6.5,5.31,5.31,0,0,0,4.9,4.9,5.31,5.31,0,0,0,6.5,1,5.31,5.31,0,0,0,8.1,4.9,5.31,5.31,0,0,0,12,6.5,5.46,5.46,0,0,0,6.5,12Z\"/>\n",
              "  </svg>\n",
              "    </button>\n",
              "    <script>\n",
              "      (() => {\n",
              "      const buttonEl =\n",
              "        document.querySelector('#id_7a9fe4b6-4425-48ac-a527-2476b7174120 button.colab-df-generate');\n",
              "      buttonEl.style.display =\n",
              "        google.colab.kernel.accessAllowed ? 'block' : 'none';\n",
              "\n",
              "      buttonEl.onclick = () => {\n",
              "        google.colab.notebook.generateWithVariable('dados');\n",
              "      }\n",
              "      })();\n",
              "    </script>\n",
              "  </div>\n",
              "\n",
              "    </div>\n",
              "  </div>\n"
            ],
            "application/vnd.google.colaboratory.intrinsic+json": {
              "type": "dataframe",
              "variable_name": "dados",
              "summary": "{\n  \"name\": \"dados\",\n  \"rows\": 16,\n  \"fields\": [\n    {\n      \"column\": \"x\",\n      \"properties\": {\n        \"dtype\": \"number\",\n        \"std\": 1,\n        \"min\": 0,\n        \"max\": 3,\n        \"num_unique_values\": 4,\n        \"samples\": [\n          1,\n          3,\n          0\n        ],\n        \"semantic_type\": \"\",\n        \"description\": \"\"\n      }\n    },\n    {\n      \"column\": \"y\",\n      \"properties\": {\n        \"dtype\": \"number\",\n        \"std\": 1,\n        \"min\": 0,\n        \"max\": 3,\n        \"num_unique_values\": 4,\n        \"samples\": [\n          1,\n          3,\n          0\n        ],\n        \"semantic_type\": \"\",\n        \"description\": \"\"\n      }\n    },\n    {\n      \"column\": \"P(X,Y)\",\n      \"properties\": {\n        \"dtype\": \"number\",\n        \"std\": 0.045343136195018535,\n        \"min\": 0.005,\n        \"max\": 0.15,\n        \"num_unique_values\": 16,\n        \"samples\": [\n          0.05,\n          0.025,\n          0.09\n        ],\n        \"semantic_type\": \"\",\n        \"description\": \"\"\n      }\n    }\n  ]\n}"
            }
          },
          "metadata": {},
          "execution_count": 103
        }
      ],
      "source": [
        "dados = pd.DataFrame({'x':np.array([[0]*4,[1]*4,[2]*4,[3]*4]).flatten(),\n",
        "                      'y':list(range(4))*4,\n",
        "                      'P(X,Y)':[0.05, 0.025, 0.075, 0.1, 0.13, 0.09, 0.15, 0.022, 0.03, 0.046, 0.11, 0.015, 0.010, 0.094, 0.005, 0.048]\n",
        "                     })\n",
        "dados"
      ]
    },
    {
      "cell_type": "markdown",
      "id": "04b07ec9",
      "metadata": {
        "id": "04b07ec9"
      },
      "source": [
        "#### a) Crie uma função para calcular a distribuição de probabilidades de uma das variáveis do conjunto de dados mostrado acima. Teste sua função para a variável x.\n",
        "\n",
        "A função deve se chamar `distribuicao`, retornar uma lista contendo as probabilidades e receber os parâmetros:\n",
        "> * **v** = _string_ representando o nome da coluna da variável que se deseja calcular as probabilidades\n",
        "> * **p** = _string_ representando o nome da coluna das probabilidades\n",
        "> * **df** = dataframe contendo o conjunto de dados"
      ]
    },
    {
      "cell_type": "code",
      "execution_count": 104,
      "id": "0f42a48d",
      "metadata": {
        "colab": {
          "base_uri": "https://localhost:8080/"
        },
        "id": "0f42a48d",
        "outputId": "a2f5544b-78eb-4ce4-a147-d41df605b056"
      },
      "outputs": [
        {
          "output_type": "execute_result",
          "data": {
            "text/plain": [
              "[0.25, 0.392, 0.201, 0.157]"
            ]
          },
          "metadata": {},
          "execution_count": 104
        }
      ],
      "source": [
        "def distribuicao(v, p, df):\n",
        "    prob = df.groupby(v)[p].sum().tolist()\n",
        "    return prob\n",
        "\n",
        "distribuicao('x', 'P(X,Y)', dados)\n"
      ]
    },
    {
      "cell_type": "markdown",
      "id": "3f9c7bfe",
      "metadata": {
        "id": "3f9c7bfe"
      },
      "source": [
        "#### b) Crie uma função para calcular a distribuição de probabilidade condicional $\\mathbb{P}(Y \\,|\\, X=x)$. Teste sua função para x = 1."
      ]
    },
    {
      "cell_type": "code",
      "execution_count": 105,
      "id": "80950d33",
      "metadata": {
        "colab": {
          "base_uri": "https://localhost:8080/"
        },
        "id": "80950d33",
        "outputId": "7a5b5cad-865e-4645-b922-41aac68760dc"
      },
      "outputs": [
        {
          "output_type": "execute_result",
          "data": {
            "text/plain": [
              "[0.025, 0.09, 0.046, 0.094]"
            ]
          },
          "metadata": {},
          "execution_count": 105
        }
      ],
      "source": [
        "def condicional(v1, v2, b, p, df):\n",
        "    df_filtered = df[df[v2] == b]\n",
        "\n",
        "    prob = df_filtered.groupby(v1)[p].sum().tolist()\n",
        "    return prob\n",
        "\n",
        "condicional('x', 'y', 1, 'P(X,Y)', dados)\n"
      ]
    },
    {
      "cell_type": "markdown",
      "id": "860115a4",
      "metadata": {
        "id": "860115a4"
      },
      "source": [
        "#### c) Crie uma função que retorne a probabilidade de uma das variáveis ser maior que um valor passado como parâmetro. Teste sua função para o caso $\\mathbb{P}(X>1)$."
      ]
    },
    {
      "cell_type": "code",
      "execution_count": 106,
      "id": "9432ecaa",
      "metadata": {
        "colab": {
          "base_uri": "https://localhost:8080/"
        },
        "id": "9432ecaa",
        "outputId": "00744aeb-cbc1-4a28-991e-e662746df248"
      },
      "outputs": [
        {
          "output_type": "execute_result",
          "data": {
            "text/plain": [
              "0.358"
            ]
          },
          "metadata": {},
          "execution_count": 106
        }
      ],
      "source": [
        "def probabilidade_maior_que(v, a, p, df):\n",
        "    df_filtered = df[df[v] > a]\n",
        "\n",
        "    prob = df_filtered[p].sum()\n",
        "    return prob\n",
        "\n",
        "probabilidade_maior_que('x', 1, 'P(X,Y)', dados)\n"
      ]
    },
    {
      "cell_type": "markdown",
      "id": "004e7b88",
      "metadata": {
        "id": "004e7b88"
      },
      "source": [
        "## Questão 2 - (In)Dependência de variáveis aleatórias\n",
        "\n",
        "Como vimos na aula, dizemos que dois eventos $E$ e $F$ são independentes se a probabilidade de ambos acontecerem é o produto das probabilidades que cada um acontece:\n",
        "\n",
        "$$P(E,F) = P(E)P(F)$$\n",
        "\n",
        "#### a) Considerando o conjunto de dados da questão anterior, crie uma fórmula que retorne `True` caso as variáveis x e y sejam dependentes ou `False` caso contrário."
      ]
    },
    {
      "cell_type": "code",
      "execution_count": 107,
      "id": "758a863f",
      "metadata": {
        "colab": {
          "base_uri": "https://localhost:8080/"
        },
        "id": "758a863f",
        "outputId": "03efa393-66d7-4d5f-98f9-148fed5b7620"
      },
      "outputs": [
        {
          "output_type": "execute_result",
          "data": {
            "text/plain": [
              "True"
            ]
          },
          "metadata": {},
          "execution_count": 107
        }
      ],
      "source": [
        "def dependentes(v1, v2, p, df):\n",
        "    p_v1 = df.groupby(v1)[p].sum()\n",
        "    p_v2 = df.groupby(v2)[p].sum()\n",
        "\n",
        "    prob_conjunta = 0\n",
        "\n",
        "    for _, row in df.iterrows():\n",
        "        prob_conjunta += row[p]\n",
        "\n",
        "    independentes = True\n",
        "    for x in p_v1.index:\n",
        "        for y in p_v2.index:\n",
        "            prob_independentes = p_v1[x] * p_v2[y]\n",
        "            prob_xy = df[(df[v1] == x) & (df[v2] == y)][p].sum()\n",
        "            if prob_xy != prob_independentes:\n",
        "                independentes = False\n",
        "                break\n",
        "\n",
        "    return not independentes\n",
        "\n",
        "dependentes('x', 'y', 'P(X,Y)', dados)\n"
      ]
    },
    {
      "cell_type": "markdown",
      "id": "93bf93ce",
      "metadata": {
        "id": "93bf93ce"
      },
      "source": [
        "#### b) Utilizando sua função, verifique se os pares de variáveis (x,y), (y,z) e (x,z) são independentes no conjunto de dados `d2`. Se necessário, realize alterações em sua função."
      ]
    },
    {
      "cell_type": "code",
      "execution_count": 108,
      "id": "1d8c1659",
      "metadata": {
        "colab": {
          "base_uri": "https://localhost:8080/"
        },
        "id": "1d8c1659",
        "outputId": "90d312d7-32e8-4800-a93a-73229210fc40"
      },
      "outputs": [
        {
          "output_type": "stream",
          "name": "stdout",
          "text": [
            "True\n",
            "True\n",
            "True\n"
          ]
        }
      ],
      "source": [
        "d2 = pd.read_csv('https://raw.githubusercontent.com/fccarvalho2/Viz/main/Q2.csv', index_col=0)\n",
        "\n",
        "P_X = d2.groupby(\"x\")[\"P(X,Y,Z)\"].sum()\n",
        "P_Y = d2.groupby(\"y\")[\"P(X,Y,Z)\"].sum()\n",
        "P_Z = d2.groupby(\"z\")[\"P(X,Y,Z)\"].sum()\n",
        "\n",
        "P_XY = d2.groupby([\"x\", \"y\"])[\"P(X,Y,Z)\"].sum()\n",
        "P_YZ = d2.groupby([\"y\", \"z\"])[\"P(X,Y,Z)\"].sum()\n",
        "P_XZ = d2.groupby([\"x\", \"z\"])[\"P(X,Y,Z)\"].sum()\n",
        "\n",
        "independence_XY = all(abs(P_XY[(x, y)] - P_X[x] * P_Y[y]) < 1e-6 for x, y in P_XY.index)\n",
        "independence_YZ = all(abs(P_YZ[(y, z)] - P_Y[y] * P_Z[z]) < 1e-6 for y, z in P_YZ.index)\n",
        "independence_XZ = all(abs(P_XZ[(x, z)] - P_X[x] * P_Z[z]) < 1e-6 for x, z in P_XZ.index)\n",
        "\n",
        "print(independence_XY)\n",
        "print(independence_YZ)\n",
        "print(independence_XZ)\n"
      ]
    },
    {
      "cell_type": "markdown",
      "id": "722237ff",
      "metadata": {
        "id": "722237ff"
      },
      "source": [
        "## Questão 3 - Simulação de variáveis aleatórias\n",
        "\n",
        "Como vimos em aula, podemos criar funções que nos auxiliam a simular dados de uma distribuição. Entretanto, várias destas funções já estão implementadas na biblioteca `scipy`, o que nos permite gerar dados que seguem uma distribuição de probabilidades de interesse. Utilizando esta biblioteca, simule 1000 amostras das seguintes variáveis:\n",
        "\n",
        "#### a) N, que segue a distribuição de poisson (discreta), com média $\\mu = 2.5$. Em seguida, gere um histograma com estes resultados e plote a função de densidade acumulada."
      ]
    },
    {
      "cell_type": "code",
      "execution_count": 109,
      "id": "8bbe0c00",
      "metadata": {
        "colab": {
          "base_uri": "https://localhost:8080/",
          "height": 601
        },
        "id": "8bbe0c00",
        "outputId": "09d886a6-2588-46b2-9743-3e8025240f33"
      },
      "outputs": [
        {
          "output_type": "display_data",
          "data": {
            "text/plain": [
              "<Figure size 1200x600 with 2 Axes>"
            ],
            "image/png": "[encoded data removed]"
          },
          "metadata": {}
        }
      ],
      "source": [
        "from scipy.stats import poisson\n",
        "\n",
        "sns.set(style=\"whitegrid\")\n",
        "\n",
        "media_poisson = 2.5\n",
        "n_amostras = 1000\n",
        "\n",
        "amostras_poisson = poisson.rvs(mu=media_poisson, size=n_amostras)\n",
        "\n",
        "plt.figure(figsize=(12, 6))\n",
        "\n",
        "plt.subplot(1, 2, 1)\n",
        "sns.histplot(amostras_poisson, bins=30, kde=False, stat=\"density\", color='skyblue')\n",
        "plt.title(\"Histograma de N (Poisson)\")\n",
        "plt.xlabel(\"N\")\n",
        "plt.ylabel(\"Densidade\")\n",
        "plt.xlim(-1, max(amostras_poisson)+1)\n",
        "\n",
        "plt.subplot(1, 2, 2)\n",
        "sns.histplot(amostras_poisson, bins=30, cumulative=True, kde=False, stat=\"density\", color='salmon')\n",
        "plt.title(\"Função de Densidade Acumulada de N (Poisson)\")\n",
        "plt.xlabel(\"N\")\n",
        "plt.ylabel(\"Densidade Acumulada\")\n",
        "plt.xlim(-1, max(amostras_poisson)+1)\n",
        "\n",
        "plt.tight_layout()\n",
        "plt.show()"
      ]
    },
    {
      "cell_type": "markdown",
      "id": "6eed1110",
      "metadata": {
        "id": "6eed1110"
      },
      "source": [
        "#### b) G, que segue a distribuição log gamma (contínua), com 4 graus de liberdade. Em seguida, gere um histograma com estes resultados e plote a função de densidade acumulada."
      ]
    },
    {
      "cell_type": "code",
      "execution_count": null,
      "id": "e13c50e9",
      "metadata": {
        "colab": {
          "base_uri": "https://localhost:8080/",
          "height": 601
        },
        "id": "e13c50e9",
        "outputId": "6b2cdfe2-6b5e-42e4-b54c-c9edab9de429"
      },
      "outputs": [
        {
          "output_type": "display_data",
          "data": {
            "text/plain": [
              "<Figure size 1200x600 with 2 Axes>"
            ],
            "image/png": "[encoded data removed]"
          },
          "metadata": {}
        }
      ],
      "source": [
        "from scipy.stats import loggamma\n",
        "\n",
        "sns.set(style=\"whitegrid\")\n",
        "\n",
        "graus_liberdade = 4\n",
        "n_amostras = 1000\n",
        "\n",
        "amostras_loggamma = loggamma.rvs(c=graus_liberdade, size=n_amostras)\n",
        "\n",
        "plt.figure(figsize=(12, 6))\n",
        "\n",
        "plt.subplot(1, 2, 1)\n",
        "sns.histplot(amostras_loggamma, bins=30, kde=False, stat=\"density\", color='skyblue')\n",
        "plt.title(\"Histograma de G (Log-Gamma)\")\n",
        "plt.xlabel(\"G\")\n",
        "plt.ylabel(\"Densidade\")\n",
        "\n",
        "plt.subplot(1, 2, 2)\n",
        "sns.histplot(amostras_loggamma, bins=30, cumulative=True, kde=False, stat=\"density\", color='salmon')\n",
        "plt.title(\"Função de Densidade Acumulada de G (Log-Gamma)\")\n",
        "plt.xlabel(\"G\")\n",
        "plt.ylabel(\"Densidade Acumulada\")\n",
        "\n",
        "plt.tight_layout()\n",
        "plt.show()"
      ]
    },
    {
      "cell_type": "markdown",
      "id": "e83efe9b",
      "metadata": {
        "id": "e83efe9b"
      },
      "source": [
        "## Desafio - Aplicação dos conhecimentos a dados reais\n",
        "\n",
        "Sabemos que vários fatores relacionados ao estilo de vida de cada um podem ter um grande impacto no risco de doenças cardiovasculares ou infarto. Para este exercício, utilizaremos um banco de dados público dos Centros para Controles de Doenças dos Estados Unidos (CDC), que realizou pesquisa em 2015 a respeito dos hábitos de vida de 253.680 americanos. Este conjunto de dados possui 22 colunas com dados numéricos, em sua maioria categóricos binários (0 para não e 1 para sim).\n",
        "\n",
        "Desejamos utilizar nossos conhecimentos adquiridos até aqui para responder às seguintes perguntas:"
      ]
    },
    {
      "cell_type": "code",
      "execution_count": null,
      "id": "f64e9cbd",
      "metadata": {
        "id": "f64e9cbd"
      },
      "outputs": [],
      "source": [
        "heart = pd.read_csv('https://raw.githubusercontent.com/fccarvalho2/Viz/main/heart_disease_kaggle.csv')\n",
        "heart.head(20)"
      ]
    },
    {
      "cell_type": "markdown",
      "id": "a3c71a1a",
      "metadata": {
        "id": "a3c71a1a"
      },
      "source": [
        "**a)** Qual a probabilidade de um entrevistado ter sofrido ataque cardíaco ou possuir doença cardiaca (HeartDiseaseorAttack = 1)?\n"
      ]
    },
    {
      "cell_type": "code",
      "execution_count": null,
      "id": "303efb72",
      "metadata": {
        "id": "303efb72"
      },
      "outputs": [],
      "source": [
        "prob_heart_disease = heart['HeartDiseaseorAttack'].mean()\n",
        "prob_heart_disease"
      ]
    },
    {
      "cell_type": "markdown",
      "id": "23adfe34",
      "metadata": {
        "id": "23adfe34"
      },
      "source": [
        "**b)** Qual a probabilidade de um fumante (smoker = 1) ter sofrido ataque cardíaco ou possuir doença cardíaca? E qual a probabilidade para um não fumante?\n"
      ]
    },
    {
      "cell_type": "code",
      "execution_count": null,
      "id": "202a4d4e",
      "metadata": {
        "id": "202a4d4e"
      },
      "outputs": [],
      "source": [
        "prob_heart_disease_smoker = heart[heart['Smoker'] == 1]['HeartDiseaseorAttack'].mean()\n",
        "\n",
        "prob_heart_disease_non_smoker = heart[heart['Smoker'] == 0]['HeartDiseaseorAttack'].mean()\n",
        "\n",
        "prob_heart_disease_smoker, prob_heart_disease_non_smoker"
      ]
    },
    {
      "cell_type": "markdown",
      "id": "271a896e",
      "metadata": {
        "id": "271a896e"
      },
      "source": [
        "**c)** Qual a probabilidade de um entrevistado que não faz atividade física e não come frutas regularmente (PhysActivity = 0 e Fruits = 0, respectivamente) ser cardíaco?\n"
      ]
    },
    {
      "cell_type": "code",
      "execution_count": null,
      "id": "992ca8fc",
      "metadata": {
        "id": "992ca8fc"
      },
      "outputs": [],
      "source": [
        "prob_heart_disease_no_activity_no_fruits = heart[(heart['PhysActivity'] == 0) & (heart['Fruits'] == 0)]['HeartDiseaseorAttack'].mean()\n",
        "prob_heart_disease_no_activity_no_fruits"
      ]
    },
    {
      "cell_type": "markdown",
      "id": "9e210264",
      "metadata": {
        "id": "9e210264"
      },
      "source": [
        "**d)** Qual a probabilidade de um entrevistado com obesidade (BMI $\\geq$ 30.0) ser cardíaco?\n"
      ]
    },
    {
      "cell_type": "code",
      "execution_count": null,
      "id": "bf0a0af3",
      "metadata": {
        "id": "bf0a0af3"
      },
      "outputs": [],
      "source": [
        "prob_heart_disease_obese = heart[heart['BMI'] >= 30.0]['HeartDiseaseorAttack'].mean()\n",
        "prob_heart_disease_obese"
      ]
    },
    {
      "cell_type": "markdown",
      "id": "f0a61c94",
      "metadata": {
        "id": "f0a61c94"
      },
      "source": [
        "**e)** Com base nos resultados anteriores, qual dos fatores de risco analisados mais contribui para risco de desenvolver doenças cardíacas ou infarto?"
      ]
    },
    {
      "cell_type": "code",
      "execution_count": null,
      "id": "920c8abf",
      "metadata": {
        "id": "920c8abf"
      },
      "outputs": [],
      "source": [
        "# Analisando os dados anteriores, a maior probabilidade de se desenvolver doenças cardíacas ou infarto, é quando o entrevistado não faz atividades físicas e não come frutas regularmente."
      ]
    }
  ],
  "metadata": {
    "kernelspec": {
      "display_name": "Python 3 (ipykernel)",
      "language": "python",
      "name": "python3"
    },
    "language_info": {
      "codemirror_mode": {
        "name": "ipython",
        "version": 3
      },
      "file_extension": ".py",
      "mimetype": "text/x-python",
      "name": "python",
      "nbconvert_exporter": "python",
      "pygments_lexer": "ipython3",
      "version": "3.8.12"
    },
    "colab": {
      "provenance": []
    }
  },
  "nbformat": 4,
  "nbformat_minor": 5
}