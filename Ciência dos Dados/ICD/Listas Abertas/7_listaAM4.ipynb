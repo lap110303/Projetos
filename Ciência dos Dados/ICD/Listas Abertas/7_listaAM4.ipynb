{
  "cells": [
    {
      "cell_type": "markdown",
      "metadata": {
        "deletable": false,
        "editable": false,
        "nbgrader": {
          "checksum": "796114292f40d93792b787b19fbed7ee",
          "grade": false,
          "grade_id": "cellc-a00",
          "locked": true,
          "schema_version": 1,
          "solution": false
        },
        "id": "9DX52SnYm63_"
      },
      "source": [
        "# Lista Aberta do Módulo 4 - Comparando Classificadores"
      ]
    },
    {
      "cell_type": "markdown",
      "source": [
        "**Regras para envio:**\n",
        "\n",
        "1. Faça uma cópia deste arquivo\n",
        "2. Deixe o arquivo aberto para qualquer pessoa com o link (Share > Anyone with the link)\n",
        "3. Garanta que as saídas do notebook estão salvas (Settings > deixe desligada a opção (New notebooks use private outputs (omit outputs when saving)), e acesse o link depois em outro navegador para garantir que estão!)\n",
        "4. Digite seu nome ##Lucas Affonso Pires###\n",
        "5. Após finalizar o exercício, poste o link (apenas o link!) no moodle.\n",
        "\n",
        "**Atenção**: como temos pouco tempo para o fechamento do semestre, por favor garantam que seus links estão corretos! Não teremos tempo para correções. É essencial que os alunos de ICD saibam usar o Google Colab."
      ],
      "metadata": {
        "id": "rHUqhVKioqnO"
      }
    },
    {
      "cell_type": "markdown",
      "source": [
        "## Identificação de malignidade em tumores de mama - UCI ML Breast Cancer Wisconsin (Diagnostic)"
      ],
      "metadata": {
        "id": "DeaO2FXyGjNL"
      }
    },
    {
      "cell_type": "markdown",
      "source": [
        "Neste trabalho você deverá realizar uma comparação entre o k-Nearest Neighbors (KNN) e o Random Forest para classificação de pacientes com tumores na mama (maligno = 1 vs benigno = 0). Para isso, usaremos o dataset de câncer de mama de UCI (já embutido no sklearn).\n",
        "\n",
        "A avaliação dos métodos deverá ser feito usando precisão, revocação e F1. Você também deve reportar a matriz de confusão.\n",
        "\n",
        "Você não precisa implementar os métodos, já que estão disponíveis na biblioteca scikit-learn da linguagem Python. Se necessário, pode fazer mais importações de bibliotecas."
      ],
      "metadata": {
        "id": "XWz0JIVkAiGv"
      }
    },
    {
      "cell_type": "markdown",
      "source": [
        "## Importando módulos e baixando dataset"
      ],
      "metadata": {
        "id": "3TVWlLvOLhR0"
      }
    },
    {
      "cell_type": "code",
      "source": [
        "from sklearn.datasets import load_breast_cancer\n",
        "import pandas as pd\n",
        "import numpy as np\n",
        "from sklearn import metrics\n",
        "from sklearn.ensemble import RandomForestClassifier\n",
        "from sklearn.neighbors import KNeighborsClassifier\n",
        "from sklearn.model_selection import StratifiedKFold"
      ],
      "metadata": {
        "id": "TABP0905EhnN"
      },
      "execution_count": null,
      "outputs": []
    },
    {
      "cell_type": "code",
      "source": [
        "cancer = load_breast_cancer()\n",
        "df = pd.DataFrame(cancer.data,columns =[cancer.feature_names])"
      ],
      "metadata": {
        "id": "D4K2s0aPEilP"
      },
      "execution_count": null,
      "outputs": []
    },
    {
      "cell_type": "code",
      "source": [
        "print(cancer.DESCR)"
      ],
      "metadata": {
        "colab": {
          "base_uri": "https://localhost:8080/"
        },
        "id": "DsVjiyU1FRYi",
        "outputId": "2062fab7-0cc2-4f2b-8174-b7d5b32590b1"
      },
      "execution_count": null,
      "outputs": [
        {
          "output_type": "stream",
          "name": "stdout",
          "text": [
            ".. _breast_cancer_dataset:\n",
            "\n",
            "Breast cancer wisconsin (diagnostic) dataset\n",
            "--------------------------------------------\n",
            "\n",
            "**Data Set Characteristics:**\n",
            "\n",
            ":Number of Instances: 569\n",
            "\n",
            ":Number of Attributes: 30 numeric, predictive attributes and the class\n",
            "\n",
            ":Attribute Information:\n",
            "    - radius (mean of distances from center to points on the perimeter)\n",
            "    - texture (standard deviation of gray-scale values)\n",
            "    - perimeter\n",
            "    - area\n",
            "    - smoothness (local variation in radius lengths)\n",
            "    - compactness (perimeter^2 / area - 1.0)\n",
            "    - concavity (severity of concave portions of the contour)\n",
            "    - concave points (number of concave portions of the contour)\n",
            "    - symmetry\n",
            "    - fractal dimension (\"coastline approximation\" - 1)\n",
            "\n",
            "    The mean, standard error, and \"worst\" or largest (mean of the three\n",
            "    worst/largest values) of these features were computed for each image,\n",
            "    resulting in 30 features.  For instance, field 0 is Mean Radius, field\n",
            "    10 is Radius SE, field 20 is Worst Radius.\n",
            "\n",
            "    - class:\n",
            "            - WDBC-Malignant\n",
            "            - WDBC-Benign\n",
            "\n",
            ":Summary Statistics:\n",
            "\n",
            "===================================== ====== ======\n",
            "                                        Min    Max\n",
            "===================================== ====== ======\n",
            "radius (mean):                        6.981  28.11\n",
            "texture (mean):                       9.71   39.28\n",
            "perimeter (mean):                     43.79  188.5\n",
            "area (mean):                          143.5  2501.0\n",
            "smoothness (mean):                    0.053  0.163\n",
            "compactness (mean):                   0.019  0.345\n",
            "concavity (mean):                     0.0    0.427\n",
            "concave points (mean):                0.0    0.201\n",
            "symmetry (mean):                      0.106  0.304\n",
            "fractal dimension (mean):             0.05   0.097\n",
            "radius (standard error):              0.112  2.873\n",
            "texture (standard error):             0.36   4.885\n",
            "perimeter (standard error):           0.757  21.98\n",
            "area (standard error):                6.802  542.2\n",
            "smoothness (standard error):          0.002  0.031\n",
            "compactness (standard error):         0.002  0.135\n",
            "concavity (standard error):           0.0    0.396\n",
            "concave points (standard error):      0.0    0.053\n",
            "symmetry (standard error):            0.008  0.079\n",
            "fractal dimension (standard error):   0.001  0.03\n",
            "radius (worst):                       7.93   36.04\n",
            "texture (worst):                      12.02  49.54\n",
            "perimeter (worst):                    50.41  251.2\n",
            "area (worst):                         185.2  4254.0\n",
            "smoothness (worst):                   0.071  0.223\n",
            "compactness (worst):                  0.027  1.058\n",
            "concavity (worst):                    0.0    1.252\n",
            "concave points (worst):               0.0    0.291\n",
            "symmetry (worst):                     0.156  0.664\n",
            "fractal dimension (worst):            0.055  0.208\n",
            "===================================== ====== ======\n",
            "\n",
            ":Missing Attribute Values: None\n",
            "\n",
            ":Class Distribution: 212 - Malignant, 357 - Benign\n",
            "\n",
            ":Creator:  Dr. William H. Wolberg, W. Nick Street, Olvi L. Mangasarian\n",
            "\n",
            ":Donor: Nick Street\n",
            "\n",
            ":Date: November, 1995\n",
            "\n",
            "This is a copy of UCI ML Breast Cancer Wisconsin (Diagnostic) datasets.\n",
            "https://goo.gl/U2Uwz2\n",
            "\n",
            "Features are computed from a digitized image of a fine needle\n",
            "aspirate (FNA) of a breast mass.  They describe\n",
            "characteristics of the cell nuclei present in the image.\n",
            "\n",
            "Separating plane described above was obtained using\n",
            "Multisurface Method-Tree (MSM-T) [K. P. Bennett, \"Decision Tree\n",
            "Construction Via Linear Programming.\" Proceedings of the 4th\n",
            "Midwest Artificial Intelligence and Cognitive Science Society,\n",
            "pp. 97-101, 1992], a classification method which uses linear\n",
            "programming to construct a decision tree.  Relevant features\n",
            "were selected using an exhaustive search in the space of 1-4\n",
            "features and 1-3 separating planes.\n",
            "\n",
            "The actual linear program used to obtain the separating plane\n",
            "in the 3-dimensional space is that described in:\n",
            "[K. P. Bennett and O. L. Mangasarian: \"Robust Linear\n",
            "Programming Discrimination of Two Linearly Inseparable Sets\",\n",
            "Optimization Methods and Software 1, 1992, 23-34].\n",
            "\n",
            "This database is also available through the UW CS ftp server:\n",
            "\n",
            "ftp ftp.cs.wisc.edu\n",
            "cd math-prog/cpo-dataset/machine-learn/WDBC/\n",
            "\n",
            ".. dropdown:: References\n",
            "\n",
            "  - W.N. Street, W.H. Wolberg and O.L. Mangasarian. Nuclear feature extraction\n",
            "    for breast tumor diagnosis. IS&T/SPIE 1993 International Symposium on\n",
            "    Electronic Imaging: Science and Technology, volume 1905, pages 861-870,\n",
            "    San Jose, CA, 1993.\n",
            "  - O.L. Mangasarian, W.N. Street and W.H. Wolberg. Breast cancer diagnosis and\n",
            "    prognosis via linear programming. Operations Research, 43(4), pages 570-577,\n",
            "    July-August 1995.\n",
            "  - W.H. Wolberg, W.N. Street, and O.L. Mangasarian. Machine learning techniques\n",
            "    to diagnose breast cancer from fine-needle aspirates. Cancer Letters 77 (1994)\n",
            "    163-171.\n",
            "\n"
          ]
        }
      ]
    },
    {
      "cell_type": "code",
      "source": [
        "#Para acessar as labels\n",
        "cancer.target"
      ],
      "metadata": {
        "id": "X8MSrfbN5PF_",
        "colab": {
          "base_uri": "https://localhost:8080/"
        },
        "outputId": "f7548afc-83c3-49e7-eb72-dc6eeafa2b8a"
      },
      "execution_count": null,
      "outputs": [
        {
          "output_type": "execute_result",
          "data": {
            "text/plain": [
              "array([0, 0, 0, 0, 0, 0, 0, 0, 0, 0, 0, 0, 0, 0, 0, 0, 0, 0, 0, 1, 1, 1,\n",
              "       0, 0, 0, 0, 0, 0, 0, 0, 0, 0, 0, 0, 0, 0, 0, 1, 0, 0, 0, 0, 0, 0,\n",
              "       0, 0, 1, 0, 1, 1, 1, 1, 1, 0, 0, 1, 0, 0, 1, 1, 1, 1, 0, 1, 0, 0,\n",
              "       1, 1, 1, 1, 0, 1, 0, 0, 1, 0, 1, 0, 0, 1, 1, 1, 0, 0, 1, 0, 0, 0,\n",
              "       1, 1, 1, 0, 1, 1, 0, 0, 1, 1, 1, 0, 0, 1, 1, 1, 1, 0, 1, 1, 0, 1,\n",
              "       1, 1, 1, 1, 1, 1, 1, 0, 0, 0, 1, 0, 0, 1, 1, 1, 0, 0, 1, 0, 1, 0,\n",
              "       0, 1, 0, 0, 1, 1, 0, 1, 1, 0, 1, 1, 1, 1, 0, 1, 1, 1, 1, 1, 1, 1,\n",
              "       1, 1, 0, 1, 1, 1, 1, 0, 0, 1, 0, 1, 1, 0, 0, 1, 1, 0, 0, 1, 1, 1,\n",
              "       1, 0, 1, 1, 0, 0, 0, 1, 0, 1, 0, 1, 1, 1, 0, 1, 1, 0, 0, 1, 0, 0,\n",
              "       0, 0, 1, 0, 0, 0, 1, 0, 1, 0, 1, 1, 0, 1, 0, 0, 0, 0, 1, 1, 0, 0,\n",
              "       1, 1, 1, 0, 1, 1, 1, 1, 1, 0, 0, 1, 1, 0, 1, 1, 0, 0, 1, 0, 1, 1,\n",
              "       1, 1, 0, 1, 1, 1, 1, 1, 0, 1, 0, 0, 0, 0, 0, 0, 0, 0, 0, 0, 0, 0,\n",
              "       0, 0, 1, 1, 1, 1, 1, 1, 0, 1, 0, 1, 1, 0, 1, 1, 0, 1, 0, 0, 1, 1,\n",
              "       1, 1, 1, 1, 1, 1, 1, 1, 1, 1, 1, 0, 1, 1, 0, 1, 0, 1, 1, 1, 1, 1,\n",
              "       1, 1, 1, 1, 1, 1, 1, 1, 1, 0, 1, 1, 1, 0, 1, 0, 1, 1, 1, 1, 0, 0,\n",
              "       0, 1, 1, 1, 1, 0, 1, 0, 1, 0, 1, 1, 1, 0, 1, 1, 1, 1, 1, 1, 1, 0,\n",
              "       0, 0, 1, 1, 1, 1, 1, 1, 1, 1, 1, 1, 1, 0, 0, 1, 0, 0, 0, 1, 0, 0,\n",
              "       1, 1, 1, 1, 1, 0, 1, 1, 1, 1, 1, 0, 1, 1, 1, 0, 1, 1, 0, 0, 1, 1,\n",
              "       1, 1, 1, 1, 0, 1, 1, 1, 1, 1, 1, 1, 0, 1, 1, 1, 1, 1, 0, 1, 1, 0,\n",
              "       1, 1, 1, 1, 1, 1, 1, 1, 1, 1, 1, 1, 0, 1, 0, 0, 1, 0, 1, 1, 1, 1,\n",
              "       1, 0, 1, 1, 0, 1, 0, 1, 1, 0, 1, 0, 1, 1, 1, 1, 1, 1, 1, 1, 0, 0,\n",
              "       1, 1, 1, 1, 1, 1, 0, 1, 1, 1, 1, 1, 1, 1, 1, 1, 1, 0, 1, 1, 1, 1,\n",
              "       1, 1, 1, 0, 1, 0, 1, 1, 0, 1, 1, 1, 1, 1, 0, 0, 1, 0, 1, 0, 1, 1,\n",
              "       1, 1, 1, 0, 1, 1, 0, 1, 0, 1, 0, 0, 1, 1, 1, 0, 1, 1, 1, 1, 1, 1,\n",
              "       1, 1, 1, 1, 1, 0, 1, 0, 0, 1, 1, 1, 1, 1, 1, 1, 1, 1, 1, 1, 1, 1,\n",
              "       1, 1, 1, 1, 1, 1, 1, 1, 1, 1, 1, 1, 0, 0, 0, 0, 0, 0, 1])"
            ]
          },
          "metadata": {},
          "execution_count": 4
        }
      ]
    },
    {
      "cell_type": "code",
      "source": [
        "#Pegar as colunas que serão usadas na classificação\n",
        "features = df.columns\n",
        "\n",
        "# Número de folds da validação cruzada\n",
        "SPLITS = 5"
      ],
      "metadata": {
        "id": "1R6vdwi-_rKB"
      },
      "execution_count": null,
      "outputs": []
    },
    {
      "cell_type": "markdown",
      "source": [
        "Se tiver dúvidas sobre a validação cruzada, recomendo :https://towardsdatascience.com/what-is-stratified-cross-validation-in-machine-learning-8844f3e7ae8e . Para regressão, vocês usaram o kfold, agora recomendo a utilização do StratifiedKFold."
      ],
      "metadata": {
        "id": "wbYGm3DUNyGj"
      }
    },
    {
      "cell_type": "markdown",
      "metadata": {
        "deletable": false,
        "editable": false,
        "nbgrader": {
          "checksum": "c77a6c3fedbe648e6e209ba6323f711e",
          "grade": false,
          "grade_id": "cell-acd6c643a4ce1477",
          "locked": true,
          "schema_version": 1,
          "solution": false
        },
        "id": "cV0uYQxcm64E"
      },
      "source": [
        "# Exercício 01:\n",
        "\n",
        "Use o RandomForest para classificar as pacientes com e sem câncer.\n",
        "\n",
        "Para a questão, faça as seguintes tarefas:\n",
        "* Varie a o número de árvores (n_estimators) e a profundidade máxima da árvore (n_estimators). Faça pelo menos 4 configurações.\n",
        "* Realize validação cruzada, com k-fold igual a 5\n",
        "* Reporte a precisão, revocação, F1 e a matriz de confusão para cada configuração\n"
      ]
    },
    {
      "cell_type": "code",
      "execution_count": null,
      "metadata": {
        "deletable": false,
        "nbgrader": {
          "checksum": "c4c170d5f5a66e6cffe2a8da92fb9285",
          "grade": true,
          "grade_id": "cell-1b46a0ab690a7b8c",
          "locked": false,
          "points": 4,
          "schema_version": 1,
          "solution": true
        },
        "id": "4_gbUGwMm64F",
        "colab": {
          "base_uri": "https://localhost:8080/"
        },
        "outputId": "c696bbef-fe89-48ae-b7d6-9c2fbad0d701"
      },
      "outputs": [
        {
          "output_type": "stream",
          "name": "stdout",
          "text": [
            "Random Forest - n_estimators: 10, max_depth: 5\n",
            "Precisão: 0.9565, Revocação: 0.9561, F1: 0.9560\n",
            "Matriz de Confusão (fold 1):\n",
            "[[38  5]\n",
            " [ 5 66]]\n",
            "\n",
            "Random Forest - n_estimators: 10, max_depth: 10\n",
            "Precisão: 0.9504, Revocação: 0.9491, F1: 0.9492\n",
            "Matriz de Confusão (fold 1):\n",
            "[[39  4]\n",
            " [ 8 63]]\n",
            "\n",
            "Random Forest - n_estimators: 10, max_depth: None\n",
            "Precisão: 0.9504, Revocação: 0.9491, F1: 0.9492\n",
            "Matriz de Confusão (fold 1):\n",
            "[[39  4]\n",
            " [ 8 63]]\n",
            "\n",
            "Random Forest - n_estimators: 50, max_depth: 5\n",
            "Precisão: 0.9566, Revocação: 0.9561, F1: 0.9559\n",
            "Matriz de Confusão (fold 1):\n",
            "[[39  4]\n",
            " [ 5 66]]\n",
            "\n",
            "Random Forest - n_estimators: 50, max_depth: 10\n",
            "Precisão: 0.9548, Revocação: 0.9543, F1: 0.9542\n",
            "Matriz de Confusão (fold 1):\n",
            "[[39  4]\n",
            " [ 5 66]]\n",
            "\n",
            "Random Forest - n_estimators: 50, max_depth: None\n",
            "Precisão: 0.9548, Revocação: 0.9543, F1: 0.9542\n",
            "Matriz de Confusão (fold 1):\n",
            "[[39  4]\n",
            " [ 5 66]]\n",
            "\n",
            "Random Forest - n_estimators: 100, max_depth: 5\n",
            "Precisão: 0.9603, Revocação: 0.9596, F1: 0.9595\n",
            "Matriz de Confusão (fold 1):\n",
            "[[39  4]\n",
            " [ 5 66]]\n",
            "\n",
            "Random Forest - n_estimators: 100, max_depth: 10\n",
            "Precisão: 0.9568, Revocação: 0.9561, F1: 0.9559\n",
            "Matriz de Confusão (fold 1):\n",
            "[[39  4]\n",
            " [ 5 66]]\n",
            "\n",
            "Random Forest - n_estimators: 100, max_depth: None\n",
            "Precisão: 0.9568, Revocação: 0.9561, F1: 0.9559\n",
            "Matriz de Confusão (fold 1):\n",
            "[[39  4]\n",
            " [ 5 66]]\n",
            "\n",
            "KNN - n_neighbors: 3\n",
            "Precisão: 0.9209, Revocação: 0.9191, F1: 0.9183\n",
            "Matriz de Confusão (fold 1):\n",
            "[[31 12]\n",
            " [ 2 69]]\n",
            "\n",
            "KNN - n_neighbors: 5\n",
            "Precisão: 0.9295, Revocação: 0.9279, F1: 0.9272\n",
            "Matriz de Confusão (fold 1):\n",
            "[[32 11]\n",
            " [ 2 69]]\n",
            "\n",
            "KNN - n_neighbors: 7\n",
            "Precisão: 0.9279, Revocação: 0.9262, F1: 0.9252\n",
            "Matriz de Confusão (fold 1):\n",
            "[[31 12]\n",
            " [ 2 69]]\n",
            "\n"
          ]
        }
      ],
      "source": [
        "from sklearn.metrics import classification_report, confusion_matrix\n",
        "\n",
        "SPLITS = 5\n",
        "skf = StratifiedKFold(n_splits=SPLITS, shuffle=True, random_state=42)\n",
        "\n",
        "def evaluate_model(model, X, y):\n",
        "    metrics_list = []\n",
        "    for train_idx, test_idx in skf.split(X, y):\n",
        "        X_train, X_test = X[train_idx], X[test_idx]\n",
        "        y_train, y_test = y[train_idx], y[test_idx]\n",
        "\n",
        "        model.fit(X_train, y_train)\n",
        "        y_pred = model.predict(X_test)\n",
        "\n",
        "        report = classification_report(y_test, y_pred, output_dict=True)\n",
        "        conf_matrix = confusion_matrix(y_test, y_pred)\n",
        "\n",
        "        metrics_list.append({\n",
        "            'precisao': report['weighted avg']['precision'],\n",
        "            'revocacao': report['weighted avg']['recall'],\n",
        "            'f1': report['weighted avg']['f1-score'],\n",
        "            'matriz_confusao': conf_matrix\n",
        "        })\n",
        "    return metrics_list\n",
        "\n",
        "skf = StratifiedKFold(n_splits=5)\n",
        "\n",
        "cancer = load_breast_cancer()\n",
        "X = cancer.data\n",
        "y = cancer.target\n",
        "\n",
        "rf_results = []\n",
        "for n_estimators in [10, 50, 100]:\n",
        "    for max_depth in [5, 10, None]:\n",
        "        rf_model = RandomForestClassifier(n_estimators=n_estimators, max_depth=max_depth, random_state=42)\n",
        "        metrics = evaluate_model(rf_model, X, y)\n",
        "        rf_results.append({\n",
        "            'n_estimators': n_estimators,\n",
        "            'max_depth': max_depth,\n",
        "            'metrics': metrics\n",
        "        })\n",
        "\n",
        "knn_results = []\n",
        "for n_neighbors in [3, 5, 7]:\n",
        "    knn_model = KNeighborsClassifier(n_neighbors=n_neighbors)\n",
        "    metrics = evaluate_model(knn_model, X, y)\n",
        "    knn_results.append({\n",
        "        'n_neighbors': n_neighbors,\n",
        "        'metrics': metrics\n",
        "    })\n",
        "\n",
        "for rf in rf_results:\n",
        "    print(f\"Random Forest - n_estimators: {rf['n_estimators']}, max_depth: {rf['max_depth']}\")\n",
        "    precisions = [m['precisao'] for m in rf['metrics']]\n",
        "    recalls = [m['revocacao'] for m in rf['metrics']]\n",
        "    f1_scores = [m['f1'] for m in rf['metrics']]\n",
        "    print(f\"Precisão: {np.mean(precisions):.4f}, Revocação: {np.mean(recalls):.4f}, F1: {np.mean(f1_scores):.4f}\")\n",
        "    print(f\"Matriz de Confusão (fold 1):\\n{rf['metrics'][0]['matriz_confusao']}\\n\")\n",
        "\n",
        "for knn in knn_results:\n",
        "    print(f\"KNN - n_neighbors: {knn['n_neighbors']}\")\n",
        "    precisions = [m['precisao'] for m in knn['metrics']]\n",
        "    recalls = [m['revocacao'] for m in knn['metrics']]\n",
        "    f1_scores = [m['f1'] for m in knn['metrics']]\n",
        "    print(f\"Precisão: {np.mean(precisions):.4f}, Revocação: {np.mean(recalls):.4f}, F1: {np.mean(f1_scores):.4f}\")\n",
        "    print(f\"Matriz de Confusão (fold 1):\\n{knn['metrics'][0]['matriz_confusao']}\\n\")"
      ]
    },
    {
      "cell_type": "markdown",
      "metadata": {
        "deletable": false,
        "editable": false,
        "nbgrader": {
          "checksum": "c5c0a788bafbd1227adf600b857ee636",
          "grade": false,
          "grade_id": "cell-b8fab7f24e1b2a35",
          "locked": true,
          "schema_version": 1,
          "solution": false
        },
        "id": "27nDGLBAm64H"
      },
      "source": [
        "# Exercício 02:\n",
        "\n",
        "Use a knn para classificar as pacientes com e sem câncer.\n",
        "\n",
        "Para a questão, faça as seguintes tarefas:\n",
        "\n",
        "* Escolha e reporte resultados com 3 números de vizinhos diferentes (k)\n",
        "* Realize validação cruzada, com k-fold igual a 5 (para cada um dos k vizinhos)\n",
        "* Reporte a precisão, revocação, F1 e a matriz de confusão para cada configuração\n"
      ]
    },
    {
      "cell_type": "code",
      "source": [
        "skf = StratifiedKFold(n_splits=5, shuffle=True, random_state=42)\n",
        "\n",
        "def evaluate_knn(n_neighbors, X, y):\n",
        "    metrics_list = []\n",
        "    for train_idx, test_idx in skf.split(X, y):\n",
        "        X_train, X_test = X[train_idx], X[test_idx]\n",
        "        y_train, y_test = y[train_idx], y[test_idx]\n",
        "\n",
        "        knn_model = KNeighborsClassifier(n_neighbors=n_neighbors)\n",
        "        knn_model.fit(X_train, y_train)\n",
        "        y_pred = knn_model.predict(X_test)\n",
        "\n",
        "        report = classification_report(y_test, y_pred, output_dict=True)\n",
        "        conf_matrix = confusion_matrix(y_test, y_pred)\n",
        "\n",
        "        metrics_list.append({\n",
        "            'precisao': report['weighted avg']['precision'],\n",
        "            'revocacao': report['weighted avg']['recall'],\n",
        "            'f1': report['weighted avg']['f1-score'],\n",
        "            'matriz_confusao': conf_matrix\n",
        "        })\n",
        "    return metrics_list\n",
        "\n",
        "k_values = [3, 5, 7]\n",
        "results = {}\n",
        "\n",
        "for k in k_values:\n",
        "    results[k] = evaluate_knn(k, X, y)\n",
        "\n",
        "for k, metrics_list in results.items():\n",
        "    precisions = [m['precisao'] for m in metrics_list]\n",
        "    recalls = [m['revocacao'] for m in metrics_list]\n",
        "    f1_scores = [m['f1'] for m in metrics_list]\n",
        "    print(f\"KNN - Número de vizinhos (k): {k}\")\n",
        "    print(f\"Precisão média: {np.mean(precisions):.4f}\")\n",
        "    print(f\"Revocação média: {np.mean(recalls):.4f}\")\n",
        "    print(f\"F1-score médio: {np.mean(f1_scores):.4f}\")\n",
        "    print(f\"Matriz de Confusão (fold 1):\\n{metrics_list[0]['matriz_confusao']}\\n\")\n"
      ],
      "metadata": {
        "id": "r5uQmMpPM2Q0",
        "colab": {
          "base_uri": "https://localhost:8080/"
        },
        "outputId": "42a1c8a2-2d64-47cf-8220-24d7142a143a"
      },
      "execution_count": null,
      "outputs": [
        {
          "output_type": "stream",
          "name": "stdout",
          "text": [
            "KNN - Número de vizinhos (k): 3\n",
            "Precisão média: 0.9308\n",
            "Revocação média: 0.9280\n",
            "F1-score médio: 0.9275\n",
            "Matriz de Confusão (fold 1):\n",
            "[[40  3]\n",
            " [ 5 66]]\n",
            "\n",
            "KNN - Número de vizinhos (k): 5\n",
            "Precisão média: 0.9369\n",
            "Revocação média: 0.9350\n",
            "F1-score médio: 0.9345\n",
            "Matriz de Confusão (fold 1):\n",
            "[[40  3]\n",
            " [ 5 66]]\n",
            "\n",
            "KNN - Número de vizinhos (k): 7\n",
            "Precisão média: 0.9310\n",
            "Revocação média: 0.9280\n",
            "F1-score médio: 0.9272\n",
            "Matriz de Confusão (fold 1):\n",
            "[[40  3]\n",
            " [ 5 66]]\n",
            "\n"
          ]
        }
      ]
    },
    {
      "cell_type": "markdown",
      "source": [
        "# Exercício 03:\n",
        "\n",
        "Compare os resultados (F1 de cada método com cada configuração) em um gráfico. Qual foi o melhor método? Houve diferença significativa com as variações de parâmetros?"
      ],
      "metadata": {
        "id": "QWcCZPJtM2v3"
      }
    },
    {
      "cell_type": "code",
      "source": [
        "import matplotlib.pyplot as plt\n",
        "import numpy as np\n",
        "\n",
        "rf_f1_scores = [\n",
        "    0.9560, 0.9492, 0.9492,  # n_estimators=10\n",
        "    0.9559, 0.9542, 0.9542,  # n_estimators=50\n",
        "    0.9595, 0.9559, 0.9559   # n_estimators=100\n",
        "]\n",
        "rf_labels = [\n",
        "    \"10-5\", \"10-10\", \"10-None\",\n",
        "    \"50-5\", \"50-10\", \"50-None\",\n",
        "    \"100-5\", \"100-10\", \"100-None\"\n",
        "]\n",
        "\n",
        "knn_f1_scores = [\n",
        "    0.9183, 0.9272, 0.9252  # k=3, k=5, k=7\n",
        "]\n",
        "knn_labels = [\"k=3\", \"k=5\", \"k=7\"]\n",
        "\n",
        "fig, ax = plt.subplots(figsize=(12, 6))\n",
        "\n",
        "x_rf = np.arange(len(rf_f1_scores))\n",
        "ax.plot(x_rf, rf_f1_scores, marker='o', label=\"Random Forest\", color='b')\n",
        "ax.set_xticks(x_rf)\n",
        "ax.set_xticklabels(rf_labels, rotation=45)\n",
        "for i, txt in enumerate(rf_f1_scores):\n",
        "    ax.text(x_rf[i], rf_f1_scores[i] + 0.002, f\"{txt:.4f}\", ha='center', fontsize=9)\n",
        "\n",
        "x_knn = np.arange(len(knn_f1_scores)) + len(rf_f1_scores) + 1\n",
        "ax.plot(x_knn, knn_f1_scores, marker='o', label=\"KNN\", color='g')\n",
        "ax.set_xticks(np.concatenate([x_rf, x_knn]))\n",
        "ax.set_xticklabels(rf_labels + knn_labels, rotation=45)\n",
        "for i, txt in enumerate(knn_f1_scores):\n",
        "    ax.text(x_knn[i], knn_f1_scores[i] + 0.002, f\"{txt:.4f}\", ha='center', fontsize=9)\n",
        "\n",
        "ax.set_title(\"Comparação de F1-score entre Random Forest e KNN\", fontsize=14)\n",
        "ax.set_xlabel(\"Configuração do Modelo\", fontsize=12)\n",
        "ax.set_ylabel(\"F1-score\", fontsize=12)\n",
        "ax.legend()\n",
        "ax.grid(True, linestyle='--', alpha=0.7)\n",
        "\n",
        "# Mostrar o gráfico\n",
        "plt.tight_layout()\n",
        "plt.show()\n",
        "\n",
        "#Melhor método: O Random Forest obteve o maior F1-score (0.9595) com 100 estimadores e profundidade máxima igual a 5.\n",
        "#Diferença significativa: O Random Forest apresentou variações menores entre as configurações, enquanto o KNN teve diferenças mais perceptíveis entre os números de vizinhos."
      ],
      "metadata": {
        "id": "geE_6MXpM-4q",
        "colab": {
          "base_uri": "https://localhost:8080/",
          "height": 607
        },
        "outputId": "0d728ff5-0603-4447-bdc9-ee10298bfd9e"
      },
      "execution_count": null,
      "outputs": [
        {
          "output_type": "display_data",
          "data": {
            "text/plain": [
              "<Figure size 1200x600 with 1 Axes>"
            ],
            "image/png": "[encoded data removed]"
          },
          "metadata": {}
        }
      ]
    },
    {
      "cell_type": "markdown",
      "source": [
        "# Exercício 04:\n",
        "\n",
        "Escolha a melhor configuração/método e refaça o modelo, agora usando apenas 5 features. (Você pode selecionar aleatoriamente ou usar alguma metodologia de feature selection). O que aconteceu com a F1? Por quê?"
      ],
      "metadata": {
        "id": "mQEFIeXb83CT"
      }
    },
    {
      "cell_type": "code",
      "source": [
        "from sklearn.ensemble import RandomForestClassifier\n",
        "from sklearn.feature_selection import SelectKBest, mutual_info_classif\n",
        "from sklearn.metrics import classification_report, confusion_matrix\n",
        "from sklearn.model_selection import cross_val_score\n",
        "import numpy as np\n",
        "\n",
        "# 1. Selecionar a melhor configuração\n",
        "best_model = RandomForestClassifier(n_estimators=100, max_depth=5, random_state=42)\n",
        "\n",
        "# 2. Avaliar a importância das features\n",
        "best_model.fit(X, y)\n",
        "feature_importances = best_model.feature_importances_\n",
        "top_features_idx = np.argsort(feature_importances)[-5:]  # Índices das 5 melhores features\n",
        "X_selected = X[:, top_features_idx]\n",
        "\n",
        "print(\"Índices das 5 melhores features:\", top_features_idx)\n",
        "print(\"Importâncias das features selecionadas:\", feature_importances[top_features_idx])\n",
        "\n",
        "# 3. Reavaliar o modelo com as 5 features selecionadas\n",
        "selected_model = RandomForestClassifier(n_estimators=100, max_depth=5, random_state=42)\n",
        "scores = cross_val_score(selected_model, X_selected, y, cv=5, scoring='f1_weighted')\n",
        "\n",
        "# 4. Exibir os resultados\n",
        "print(f\"F1-score médio com todas as features: {0.9595}\")\n",
        "print(f\"F1-score médio com 5 features: {scores.mean():.4f}\")\n",
        "\n",
        "#A mudança no F1 ocorre porque:\n",
        "#Redução de features pode simplificar o modelo, mas pode levar à perda de informações importantes, reduzindo o desempenho.\n",
        "#No entanto, às vezes, pode melhorar a performance devido à diminuição de ruído ou redundância no conjunto de dados.\n"
      ],
      "metadata": {
        "id": "p8rCrGj8Dq0v",
        "colab": {
          "base_uri": "https://localhost:8080/"
        },
        "outputId": "dac27537-0209-45cc-87df-825f5e599877"
      },
      "execution_count": null,
      "outputs": [
        {
          "output_type": "stream",
          "name": "stdout",
          "text": [
            "Índices das 5 melhores features: [20 22  7 27 23]\n",
            "Importâncias das features selecionadas: [0.07871837 0.0816273  0.10221674 0.13523206 0.15535754]\n",
            "F1-score médio com todas as features: 0.9595\n",
            "F1-score médio com 5 features: 0.9366\n"
          ]
        }
      ]
    }
  ],
  "metadata": {
    "kernelspec": {
      "display_name": "Python 3",
      "language": "python",
      "name": "python3"
    },
    "language_info": {
      "codemirror_mode": {
        "name": "ipython",
        "version": 3
      },
      "file_extension": ".py",
      "mimetype": "text/x-python",
      "name": "python",
      "nbconvert_exporter": "python",
      "pygments_lexer": "ipython3",
      "version": "3.6.6"
    },
    "colab": {
      "provenance": []
    }
  },
  "nbformat": 4,
  "nbformat_minor": 0
}